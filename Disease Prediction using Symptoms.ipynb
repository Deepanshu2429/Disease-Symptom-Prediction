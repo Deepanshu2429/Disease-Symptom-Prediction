{
 "cells": [
  {
   "cell_type": "code",
   "execution_count": 1,
   "id": "ce91a407",
   "metadata": {},
   "outputs": [],
   "source": [
    "import pandas as pd\n",
    "import numpy as np\n",
    "import seaborn as sns\n",
    "import matplotlib.pyplot as plt\n",
    "from sklearn.model_selection import train_test_split\n",
    "from sklearn.model_selection import KFold\n",
    "from sklearn.model_selection import cross_val_score\n",
    "from sklearn.ensemble import RandomForestClassifier\n",
    "from sklearn.model_selection import train_test_split\n",
    "from sklearn.metrics import accuracy_score\n",
    "from sklearn.model_selection import RandomizedSearchCV\n",
    "from sklearn.ensemble import RandomForestClassifier\n",
    "from sklearn.feature_selection import mutuala_info_classif\n",
    "from sklearn.tree import DecisionTreeRegressor\n",
    "from xgboost import XGBClassifier\n",
    "from sklearn.metrics import accuracy_score, classification_report , confusion_matrix,f1_score\n",
    "from sklearn.linear_model import LinearRegression\n",
    "from sklearn.neighbors import KNeighborsRegressor\n",
    "from sklearn.ensemble import RandomForestRegressor\n",
    "from sklearn.tree import DecisionTreeRegressor\n",
    "from sklearn.svm import SVC\n",
    "import seaborn as sns\n",
    "from imblearn.over_sampling import RandomOverSampler\n",
    "from sklearn.neighbors import KNeighborsClassifier"
   ]
  },
  {
   "cell_type": "code",
   "execution_count": 2,
   "id": "56681b78",
   "metadata": {},
   "outputs": [],
   "source": [
    "data= pd.read_csv('c:dataset.csv')\n",
    "severity = pd.read_csv('c:Symptom-severity.csv')\n",
    "description = pd.read_csv('c:symptom_Description.csv')\n",
    "precaution = pd.read_csv('c:symptom_precaution.csv')"
   ]
  },
  {
   "cell_type": "code",
   "execution_count": 3,
   "id": "59cfcefe",
   "metadata": {},
   "outputs": [
    {
     "data": {
      "text/plain": [
       "(4560, 19)"
      ]
     },
     "execution_count": 3,
     "metadata": {},
     "output_type": "execute_result"
    }
   ],
   "source": [
    "combined = pd.merge(data,description,on='Disease') #combining 2 dataframes\n",
    "combined.shape"
   ]
  },
  {
   "cell_type": "code",
   "execution_count": 4,
   "id": "7fe3e871",
   "metadata": {},
   "outputs": [],
   "source": [
    "combined = pd.merge(combined,precaution,on='Disease') #combining another one"
   ]
  },
  {
   "cell_type": "code",
   "execution_count": 5,
   "id": "2115c279",
   "metadata": {},
   "outputs": [
    {
     "data": {
      "text/html": [
       "<div>\n",
       "<style scoped>\n",
       "    .dataframe tbody tr th:only-of-type {\n",
       "        vertical-align: middle;\n",
       "    }\n",
       "\n",
       "    .dataframe tbody tr th {\n",
       "        vertical-align: top;\n",
       "    }\n",
       "\n",
       "    .dataframe thead th {\n",
       "        text-align: right;\n",
       "    }\n",
       "</style>\n",
       "<table border=\"1\" class=\"dataframe\">\n",
       "  <thead>\n",
       "    <tr style=\"text-align: right;\">\n",
       "      <th></th>\n",
       "      <th>Disease</th>\n",
       "      <th>Symptom_1</th>\n",
       "      <th>Symptom_2</th>\n",
       "      <th>Symptom_3</th>\n",
       "      <th>Symptom_4</th>\n",
       "      <th>Symptom_5</th>\n",
       "      <th>Symptom_6</th>\n",
       "      <th>Symptom_7</th>\n",
       "      <th>Symptom_8</th>\n",
       "      <th>Symptom_9</th>\n",
       "      <th>...</th>\n",
       "      <th>Symptom_13</th>\n",
       "      <th>Symptom_14</th>\n",
       "      <th>Symptom_15</th>\n",
       "      <th>Symptom_16</th>\n",
       "      <th>Symptom_17</th>\n",
       "      <th>Description</th>\n",
       "      <th>Precaution_1</th>\n",
       "      <th>Precaution_2</th>\n",
       "      <th>Precaution_3</th>\n",
       "      <th>Precaution_4</th>\n",
       "    </tr>\n",
       "  </thead>\n",
       "  <tbody>\n",
       "    <tr>\n",
       "      <th>313</th>\n",
       "      <td>GERD</td>\n",
       "      <td>stomach_pain</td>\n",
       "      <td>acidity</td>\n",
       "      <td>ulcers_on_tongue</td>\n",
       "      <td>vomiting</td>\n",
       "      <td>cough</td>\n",
       "      <td>chest_pain</td>\n",
       "      <td>NaN</td>\n",
       "      <td>NaN</td>\n",
       "      <td>NaN</td>\n",
       "      <td>...</td>\n",
       "      <td>NaN</td>\n",
       "      <td>NaN</td>\n",
       "      <td>NaN</td>\n",
       "      <td>NaN</td>\n",
       "      <td>NaN</td>\n",
       "      <td>Gastroesophageal reflux disease, or GERD, is a...</td>\n",
       "      <td>avoid fatty spicy food</td>\n",
       "      <td>avoid lying down after eating</td>\n",
       "      <td>maintain healthy weight</td>\n",
       "      <td>exercise</td>\n",
       "    </tr>\n",
       "    <tr>\n",
       "      <th>406</th>\n",
       "      <td>Chronic cholestasis</td>\n",
       "      <td>itching</td>\n",
       "      <td>vomiting</td>\n",
       "      <td>yellowish_skin</td>\n",
       "      <td>nausea</td>\n",
       "      <td>loss_of_appetite</td>\n",
       "      <td>yellowing_of_eyes</td>\n",
       "      <td>NaN</td>\n",
       "      <td>NaN</td>\n",
       "      <td>NaN</td>\n",
       "      <td>...</td>\n",
       "      <td>NaN</td>\n",
       "      <td>NaN</td>\n",
       "      <td>NaN</td>\n",
       "      <td>NaN</td>\n",
       "      <td>NaN</td>\n",
       "      <td>Chronic cholestatic diseases, whether occurrin...</td>\n",
       "      <td>cold baths</td>\n",
       "      <td>anti itch medicine</td>\n",
       "      <td>consult doctor</td>\n",
       "      <td>eat healthy</td>\n",
       "    </tr>\n",
       "    <tr>\n",
       "      <th>3826</th>\n",
       "      <td>Osteoarthristis</td>\n",
       "      <td>joint_pain</td>\n",
       "      <td>neck_pain</td>\n",
       "      <td>knee_pain</td>\n",
       "      <td>hip_joint_pain</td>\n",
       "      <td>swelling_joints</td>\n",
       "      <td>painful_walking</td>\n",
       "      <td>NaN</td>\n",
       "      <td>NaN</td>\n",
       "      <td>NaN</td>\n",
       "      <td>...</td>\n",
       "      <td>NaN</td>\n",
       "      <td>NaN</td>\n",
       "      <td>NaN</td>\n",
       "      <td>NaN</td>\n",
       "      <td>NaN</td>\n",
       "      <td>Osteoarthritis is the most common form of arth...</td>\n",
       "      <td>acetaminophen</td>\n",
       "      <td>consult nearest hospital</td>\n",
       "      <td>follow up</td>\n",
       "      <td>salt baths</td>\n",
       "    </tr>\n",
       "    <tr>\n",
       "      <th>139</th>\n",
       "      <td>Allergy</td>\n",
       "      <td>continuous_sneezing</td>\n",
       "      <td>shivering</td>\n",
       "      <td>chills</td>\n",
       "      <td>watering_from_eyes</td>\n",
       "      <td>NaN</td>\n",
       "      <td>NaN</td>\n",
       "      <td>NaN</td>\n",
       "      <td>NaN</td>\n",
       "      <td>NaN</td>\n",
       "      <td>...</td>\n",
       "      <td>NaN</td>\n",
       "      <td>NaN</td>\n",
       "      <td>NaN</td>\n",
       "      <td>NaN</td>\n",
       "      <td>NaN</td>\n",
       "      <td>An allergy is an immune system response to a f...</td>\n",
       "      <td>apply calamine</td>\n",
       "      <td>cover area with bandage</td>\n",
       "      <td>NaN</td>\n",
       "      <td>use ice to compress itching</td>\n",
       "    </tr>\n",
       "    <tr>\n",
       "      <th>3210</th>\n",
       "      <td>Heart attack</td>\n",
       "      <td>vomiting</td>\n",
       "      <td>breathlessness</td>\n",
       "      <td>sweating</td>\n",
       "      <td>chest_pain</td>\n",
       "      <td>NaN</td>\n",
       "      <td>NaN</td>\n",
       "      <td>NaN</td>\n",
       "      <td>NaN</td>\n",
       "      <td>NaN</td>\n",
       "      <td>...</td>\n",
       "      <td>NaN</td>\n",
       "      <td>NaN</td>\n",
       "      <td>NaN</td>\n",
       "      <td>NaN</td>\n",
       "      <td>NaN</td>\n",
       "      <td>The death of heart muscle due to the loss of b...</td>\n",
       "      <td>call ambulance</td>\n",
       "      <td>chew or swallow asprin</td>\n",
       "      <td>keep calm</td>\n",
       "      <td>NaN</td>\n",
       "    </tr>\n",
       "  </tbody>\n",
       "</table>\n",
       "<p>5 rows × 23 columns</p>\n",
       "</div>"
      ],
      "text/plain": [
       "                  Disease             Symptom_1        Symptom_2  \\\n",
       "313                  GERD          stomach_pain          acidity   \n",
       "406   Chronic cholestasis               itching         vomiting   \n",
       "3826      Osteoarthristis            joint_pain        neck_pain   \n",
       "139               Allergy   continuous_sneezing        shivering   \n",
       "3210         Heart attack              vomiting   breathlessness   \n",
       "\n",
       "              Symptom_3            Symptom_4          Symptom_5  \\\n",
       "313    ulcers_on_tongue             vomiting              cough   \n",
       "406      yellowish_skin               nausea   loss_of_appetite   \n",
       "3826          knee_pain       hip_joint_pain    swelling_joints   \n",
       "139              chills   watering_from_eyes                NaN   \n",
       "3210           sweating           chest_pain                NaN   \n",
       "\n",
       "               Symptom_6 Symptom_7 Symptom_8 Symptom_9  ... Symptom_13  \\\n",
       "313           chest_pain       NaN       NaN       NaN  ...        NaN   \n",
       "406    yellowing_of_eyes       NaN       NaN       NaN  ...        NaN   \n",
       "3826     painful_walking       NaN       NaN       NaN  ...        NaN   \n",
       "139                  NaN       NaN       NaN       NaN  ...        NaN   \n",
       "3210                 NaN       NaN       NaN       NaN  ...        NaN   \n",
       "\n",
       "     Symptom_14 Symptom_15 Symptom_16 Symptom_17  \\\n",
       "313         NaN        NaN        NaN        NaN   \n",
       "406         NaN        NaN        NaN        NaN   \n",
       "3826        NaN        NaN        NaN        NaN   \n",
       "139         NaN        NaN        NaN        NaN   \n",
       "3210        NaN        NaN        NaN        NaN   \n",
       "\n",
       "                                            Description  \\\n",
       "313   Gastroesophageal reflux disease, or GERD, is a...   \n",
       "406   Chronic cholestatic diseases, whether occurrin...   \n",
       "3826  Osteoarthritis is the most common form of arth...   \n",
       "139   An allergy is an immune system response to a f...   \n",
       "3210  The death of heart muscle due to the loss of b...   \n",
       "\n",
       "                Precaution_1                   Precaution_2  \\\n",
       "313   avoid fatty spicy food  avoid lying down after eating   \n",
       "406               cold baths             anti itch medicine   \n",
       "3826           acetaminophen       consult nearest hospital   \n",
       "139           apply calamine        cover area with bandage   \n",
       "3210          call ambulance         chew or swallow asprin   \n",
       "\n",
       "                 Precaution_3                 Precaution_4  \n",
       "313   maintain healthy weight                     exercise  \n",
       "406            consult doctor                  eat healthy  \n",
       "3826                follow up                   salt baths  \n",
       "139                       NaN  use ice to compress itching  \n",
       "3210                keep calm                          NaN  \n",
       "\n",
       "[5 rows x 23 columns]"
      ]
     },
     "execution_count": 5,
     "metadata": {},
     "output_type": "execute_result"
    }
   ],
   "source": [
    "combined.sample(5)"
   ]
  },
  {
   "cell_type": "code",
   "execution_count": 6,
   "id": "5fabd175",
   "metadata": {},
   "outputs": [
    {
     "data": {
      "text/html": [
       "<div>\n",
       "<style scoped>\n",
       "    .dataframe tbody tr th:only-of-type {\n",
       "        vertical-align: middle;\n",
       "    }\n",
       "\n",
       "    .dataframe tbody tr th {\n",
       "        vertical-align: top;\n",
       "    }\n",
       "\n",
       "    .dataframe thead th {\n",
       "        text-align: right;\n",
       "    }\n",
       "</style>\n",
       "<table border=\"1\" class=\"dataframe\">\n",
       "  <thead>\n",
       "    <tr style=\"text-align: right;\">\n",
       "      <th></th>\n",
       "      <th>Disease</th>\n",
       "      <th>Symptom_1</th>\n",
       "      <th>Symptom_2</th>\n",
       "      <th>Symptom_3</th>\n",
       "      <th>Symptom_4</th>\n",
       "      <th>Symptom_5</th>\n",
       "      <th>Symptom_6</th>\n",
       "      <th>Symptom_7</th>\n",
       "      <th>Symptom_8</th>\n",
       "      <th>Symptom_9</th>\n",
       "      <th>...</th>\n",
       "      <th>Symptom_13</th>\n",
       "      <th>Symptom_14</th>\n",
       "      <th>Symptom_15</th>\n",
       "      <th>Symptom_16</th>\n",
       "      <th>Symptom_17</th>\n",
       "      <th>Description</th>\n",
       "      <th>Precaution_1</th>\n",
       "      <th>Precaution_2</th>\n",
       "      <th>Precaution_3</th>\n",
       "      <th>Precaution_4</th>\n",
       "    </tr>\n",
       "  </thead>\n",
       "  <tbody>\n",
       "    <tr>\n",
       "      <th>count</th>\n",
       "      <td>4560</td>\n",
       "      <td>4560</td>\n",
       "      <td>4560</td>\n",
       "      <td>4560</td>\n",
       "      <td>4212</td>\n",
       "      <td>3432</td>\n",
       "      <td>2814</td>\n",
       "      <td>2148</td>\n",
       "      <td>1824</td>\n",
       "      <td>1572</td>\n",
       "      <td>...</td>\n",
       "      <td>504</td>\n",
       "      <td>306</td>\n",
       "      <td>240</td>\n",
       "      <td>192</td>\n",
       "      <td>72</td>\n",
       "      <td>4560</td>\n",
       "      <td>4560</td>\n",
       "      <td>4560</td>\n",
       "      <td>4440</td>\n",
       "      <td>4440</td>\n",
       "    </tr>\n",
       "    <tr>\n",
       "      <th>unique</th>\n",
       "      <td>38</td>\n",
       "      <td>30</td>\n",
       "      <td>43</td>\n",
       "      <td>51</td>\n",
       "      <td>46</td>\n",
       "      <td>34</td>\n",
       "      <td>31</td>\n",
       "      <td>25</td>\n",
       "      <td>20</td>\n",
       "      <td>20</td>\n",
       "      <td>...</td>\n",
       "      <td>8</td>\n",
       "      <td>4</td>\n",
       "      <td>3</td>\n",
       "      <td>3</td>\n",
       "      <td>1</td>\n",
       "      <td>38</td>\n",
       "      <td>31</td>\n",
       "      <td>32</td>\n",
       "      <td>28</td>\n",
       "      <td>23</td>\n",
       "    </tr>\n",
       "    <tr>\n",
       "      <th>top</th>\n",
       "      <td>Paralysis (brain hemorrhage)</td>\n",
       "      <td>vomiting</td>\n",
       "      <td>vomiting</td>\n",
       "      <td>fatigue</td>\n",
       "      <td>high_fever</td>\n",
       "      <td>headache</td>\n",
       "      <td>nausea</td>\n",
       "      <td>abdominal_pain</td>\n",
       "      <td>abdominal_pain</td>\n",
       "      <td>yellowing_of_eyes</td>\n",
       "      <td>...</td>\n",
       "      <td>runny_nose</td>\n",
       "      <td>chest_pain</td>\n",
       "      <td>chest_pain</td>\n",
       "      <td>blood_in_sputum</td>\n",
       "      <td>muscle_pain</td>\n",
       "      <td>Osteoarthritis is the most common form of arth...</td>\n",
       "      <td>Consult nearest hospital</td>\n",
       "      <td>vaccination</td>\n",
       "      <td>consult doctor</td>\n",
       "      <td>medication</td>\n",
       "    </tr>\n",
       "    <tr>\n",
       "      <th>freq</th>\n",
       "      <td>120</td>\n",
       "      <td>822</td>\n",
       "      <td>870</td>\n",
       "      <td>726</td>\n",
       "      <td>378</td>\n",
       "      <td>348</td>\n",
       "      <td>390</td>\n",
       "      <td>264</td>\n",
       "      <td>276</td>\n",
       "      <td>228</td>\n",
       "      <td>...</td>\n",
       "      <td>72</td>\n",
       "      <td>96</td>\n",
       "      <td>144</td>\n",
       "      <td>72</td>\n",
       "      <td>72</td>\n",
       "      <td>120</td>\n",
       "      <td>360</td>\n",
       "      <td>240</td>\n",
       "      <td>600</td>\n",
       "      <td>720</td>\n",
       "    </tr>\n",
       "  </tbody>\n",
       "</table>\n",
       "<p>4 rows × 23 columns</p>\n",
       "</div>"
      ],
      "text/plain": [
       "                             Disease  Symptom_1  Symptom_2 Symptom_3  \\\n",
       "count                           4560       4560       4560      4560   \n",
       "unique                            38         30         43        51   \n",
       "top     Paralysis (brain hemorrhage)   vomiting   vomiting   fatigue   \n",
       "freq                             120        822        870       726   \n",
       "\n",
       "          Symptom_4  Symptom_5 Symptom_6        Symptom_7        Symptom_8  \\\n",
       "count          4212       3432      2814             2148             1824   \n",
       "unique           46         34        31               25               20   \n",
       "top      high_fever   headache    nausea   abdominal_pain   abdominal_pain   \n",
       "freq            378        348       390              264              276   \n",
       "\n",
       "                 Symptom_9  ...   Symptom_13   Symptom_14   Symptom_15  \\\n",
       "count                 1572  ...          504          306          240   \n",
       "unique                  20  ...            8            4            3   \n",
       "top      yellowing_of_eyes  ...   runny_nose   chest_pain   chest_pain   \n",
       "freq                   228  ...           72           96          144   \n",
       "\n",
       "              Symptom_16    Symptom_17  \\\n",
       "count                192            72   \n",
       "unique                 3             1   \n",
       "top      blood_in_sputum   muscle_pain   \n",
       "freq                  72            72   \n",
       "\n",
       "                                              Description  \\\n",
       "count                                                4560   \n",
       "unique                                                 38   \n",
       "top     Osteoarthritis is the most common form of arth...   \n",
       "freq                                                  120   \n",
       "\n",
       "                    Precaution_1 Precaution_2    Precaution_3 Precaution_4  \n",
       "count                       4560         4560            4440         4440  \n",
       "unique                        31           32              28           23  \n",
       "top     Consult nearest hospital  vaccination  consult doctor   medication  \n",
       "freq                         360          240             600          720  \n",
       "\n",
       "[4 rows x 23 columns]"
      ]
     },
     "execution_count": 6,
     "metadata": {},
     "output_type": "execute_result"
    }
   ],
   "source": [
    "#dataset charctersitics\n",
    "combined.describe()"
   ]
  },
  {
   "cell_type": "code",
   "execution_count": 7,
   "id": "efd8cefb",
   "metadata": {},
   "outputs": [
    {
     "data": {
      "text/plain": [
       "38"
      ]
     },
     "execution_count": 7,
     "metadata": {},
     "output_type": "execute_result"
    }
   ],
   "source": [
    "#number of disease\n",
    "len(combined['Disease'].unique())"
   ]
  },
  {
   "cell_type": "code",
   "execution_count": 8,
   "id": "004d4626",
   "metadata": {},
   "outputs": [
    {
     "data": {
      "text/plain": [
       "(4560, 23)"
      ]
     },
     "execution_count": 8,
     "metadata": {},
     "output_type": "execute_result"
    }
   ],
   "source": [
    "#shape of the dataset(4920 rows and 18 cols)\n",
    "combined.shape"
   ]
  },
  {
   "cell_type": "code",
   "execution_count": 9,
   "id": "d04c7dcd",
   "metadata": {},
   "outputs": [
    {
     "data": {
      "text/plain": [
       "Disease            0\n",
       "Symptom_1          0\n",
       "Symptom_2          0\n",
       "Symptom_3          0\n",
       "Symptom_4        348\n",
       "Symptom_5       1128\n",
       "Symptom_6       1746\n",
       "Symptom_7       2412\n",
       "Symptom_8       2736\n",
       "Symptom_9       2988\n",
       "Symptom_10      3120\n",
       "Symptom_11      3366\n",
       "Symptom_12      3816\n",
       "Symptom_13      4056\n",
       "Symptom_14      4254\n",
       "Symptom_15      4320\n",
       "Symptom_16      4368\n",
       "Symptom_17      4488\n",
       "Description        0\n",
       "Precaution_1       0\n",
       "Precaution_2       0\n",
       "Precaution_3     120\n",
       "Precaution_4     120\n",
       "dtype: int64"
      ]
     },
     "execution_count": 9,
     "metadata": {},
     "output_type": "execute_result"
    }
   ],
   "source": [
    "combined.isna().sum()"
   ]
  },
  {
   "cell_type": "code",
   "execution_count": 10,
   "id": "a2cfbb87",
   "metadata": {},
   "outputs": [],
   "source": [
    "del combined['Symptom_4']    #deleting the columns which we dont need\n",
    "del combined['Symptom_5']   \n",
    "del combined['Symptom_6']   \n",
    "del combined['Symptom_7']   \n",
    "del combined['Symptom_8']   \n",
    "del combined['Symptom_9']   \n",
    "del combined['Symptom_10']   \n",
    "del combined['Symptom_11']   \n",
    "del combined['Symptom_12']   \n",
    "del combined['Symptom_13']   \n",
    "del combined['Symptom_14']   \n",
    "del combined['Symptom_15']   \n",
    "del combined['Symptom_16']\n",
    "del combined['Symptom_17']          "
   ]
  },
  {
   "cell_type": "code",
   "execution_count": 11,
   "id": "b3577347",
   "metadata": {},
   "outputs": [],
   "source": [
    "combined = combined.fillna(method='ffill') #doing a forward fill on null values"
   ]
  },
  {
   "cell_type": "code",
   "execution_count": 12,
   "id": "b7f1214d",
   "metadata": {},
   "outputs": [
    {
     "data": {
      "text/plain": [
       "Index(['Disease', 'Symptom_1', 'Symptom_2', 'Symptom_3', 'Description',\n",
       "       'Precaution_1', 'Precaution_2', 'Precaution_3', 'Precaution_4'],\n",
       "      dtype='object')"
      ]
     },
     "execution_count": 12,
     "metadata": {},
     "output_type": "execute_result"
    }
   ],
   "source": [
    "combined.columns"
   ]
  },
  {
   "cell_type": "code",
   "execution_count": 13,
   "id": "dd93f433",
   "metadata": {},
   "outputs": [
    {
     "data": {
      "text/html": [
       "<div>\n",
       "<style scoped>\n",
       "    .dataframe tbody tr th:only-of-type {\n",
       "        vertical-align: middle;\n",
       "    }\n",
       "\n",
       "    .dataframe tbody tr th {\n",
       "        vertical-align: top;\n",
       "    }\n",
       "\n",
       "    .dataframe thead th {\n",
       "        text-align: right;\n",
       "    }\n",
       "</style>\n",
       "<table border=\"1\" class=\"dataframe\">\n",
       "  <thead>\n",
       "    <tr style=\"text-align: right;\">\n",
       "      <th></th>\n",
       "      <th>Disease</th>\n",
       "      <th>Symptom_1</th>\n",
       "      <th>Symptom_2</th>\n",
       "      <th>Symptom_3</th>\n",
       "      <th>Description</th>\n",
       "      <th>Precaution_1</th>\n",
       "      <th>Precaution_2</th>\n",
       "      <th>Precaution_3</th>\n",
       "      <th>Precaution_4</th>\n",
       "    </tr>\n",
       "  </thead>\n",
       "  <tbody>\n",
       "    <tr>\n",
       "      <th>0</th>\n",
       "      <td>Fungal infection</td>\n",
       "      <td>itching</td>\n",
       "      <td>skin_rash</td>\n",
       "      <td>nodal_skin_eruptions</td>\n",
       "      <td>In humans, fungal infections occur when an inv...</td>\n",
       "      <td>bath twice</td>\n",
       "      <td>use detol or neem in bathing water</td>\n",
       "      <td>keep infected area dry</td>\n",
       "      <td>use clean cloths</td>\n",
       "    </tr>\n",
       "    <tr>\n",
       "      <th>1</th>\n",
       "      <td>Fungal infection</td>\n",
       "      <td>skin_rash</td>\n",
       "      <td>nodal_skin_eruptions</td>\n",
       "      <td>dischromic _patches</td>\n",
       "      <td>In humans, fungal infections occur when an inv...</td>\n",
       "      <td>bath twice</td>\n",
       "      <td>use detol or neem in bathing water</td>\n",
       "      <td>keep infected area dry</td>\n",
       "      <td>use clean cloths</td>\n",
       "    </tr>\n",
       "    <tr>\n",
       "      <th>2</th>\n",
       "      <td>Fungal infection</td>\n",
       "      <td>itching</td>\n",
       "      <td>nodal_skin_eruptions</td>\n",
       "      <td>dischromic _patches</td>\n",
       "      <td>In humans, fungal infections occur when an inv...</td>\n",
       "      <td>bath twice</td>\n",
       "      <td>use detol or neem in bathing water</td>\n",
       "      <td>keep infected area dry</td>\n",
       "      <td>use clean cloths</td>\n",
       "    </tr>\n",
       "    <tr>\n",
       "      <th>3</th>\n",
       "      <td>Fungal infection</td>\n",
       "      <td>itching</td>\n",
       "      <td>skin_rash</td>\n",
       "      <td>dischromic _patches</td>\n",
       "      <td>In humans, fungal infections occur when an inv...</td>\n",
       "      <td>bath twice</td>\n",
       "      <td>use detol or neem in bathing water</td>\n",
       "      <td>keep infected area dry</td>\n",
       "      <td>use clean cloths</td>\n",
       "    </tr>\n",
       "    <tr>\n",
       "      <th>4</th>\n",
       "      <td>Fungal infection</td>\n",
       "      <td>itching</td>\n",
       "      <td>skin_rash</td>\n",
       "      <td>nodal_skin_eruptions</td>\n",
       "      <td>In humans, fungal infections occur when an inv...</td>\n",
       "      <td>bath twice</td>\n",
       "      <td>use detol or neem in bathing water</td>\n",
       "      <td>keep infected area dry</td>\n",
       "      <td>use clean cloths</td>\n",
       "    </tr>\n",
       "  </tbody>\n",
       "</table>\n",
       "</div>"
      ],
      "text/plain": [
       "            Disease  Symptom_1             Symptom_2             Symptom_3  \\\n",
       "0  Fungal infection    itching             skin_rash  nodal_skin_eruptions   \n",
       "1  Fungal infection  skin_rash  nodal_skin_eruptions   dischromic _patches   \n",
       "2  Fungal infection    itching  nodal_skin_eruptions   dischromic _patches   \n",
       "3  Fungal infection    itching             skin_rash   dischromic _patches   \n",
       "4  Fungal infection    itching             skin_rash  nodal_skin_eruptions   \n",
       "\n",
       "                                         Description Precaution_1  \\\n",
       "0  In humans, fungal infections occur when an inv...   bath twice   \n",
       "1  In humans, fungal infections occur when an inv...   bath twice   \n",
       "2  In humans, fungal infections occur when an inv...   bath twice   \n",
       "3  In humans, fungal infections occur when an inv...   bath twice   \n",
       "4  In humans, fungal infections occur when an inv...   bath twice   \n",
       "\n",
       "                         Precaution_2            Precaution_3  \\\n",
       "0  use detol or neem in bathing water  keep infected area dry   \n",
       "1  use detol or neem in bathing water  keep infected area dry   \n",
       "2  use detol or neem in bathing water  keep infected area dry   \n",
       "3  use detol or neem in bathing water  keep infected area dry   \n",
       "4  use detol or neem in bathing water  keep infected area dry   \n",
       "\n",
       "       Precaution_4  \n",
       "0  use clean cloths  \n",
       "1  use clean cloths  \n",
       "2  use clean cloths  \n",
       "3  use clean cloths  \n",
       "4  use clean cloths  "
      ]
     },
     "execution_count": 13,
     "metadata": {},
     "output_type": "execute_result"
    }
   ],
   "source": [
    "#removing any whitespaces\n",
    "cols = combined.columns\n",
    "data = combined[cols].values.flatten()\n",
    "\n",
    "s = pd.Series(data)\n",
    "s = s.str.strip()\n",
    "s = s.values.reshape(combined.shape)\n",
    "\n",
    "combined = pd.DataFrame(s, columns=combined.columns)\n",
    "combined.head()"
   ]
  },
  {
   "cell_type": "code",
   "execution_count": 14,
   "id": "db59ca03",
   "metadata": {},
   "outputs": [
    {
     "data": {
      "text/html": [
       "<div>\n",
       "<style scoped>\n",
       "    .dataframe tbody tr th:only-of-type {\n",
       "        vertical-align: middle;\n",
       "    }\n",
       "\n",
       "    .dataframe tbody tr th {\n",
       "        vertical-align: top;\n",
       "    }\n",
       "\n",
       "    .dataframe thead th {\n",
       "        text-align: right;\n",
       "    }\n",
       "</style>\n",
       "<table border=\"1\" class=\"dataframe\">\n",
       "  <thead>\n",
       "    <tr style=\"text-align: right;\">\n",
       "      <th></th>\n",
       "      <th>Symptom_1</th>\n",
       "      <th>Symptom_2</th>\n",
       "      <th>Symptom_3</th>\n",
       "    </tr>\n",
       "  </thead>\n",
       "  <tbody>\n",
       "    <tr>\n",
       "      <th>0</th>\n",
       "      <td>itching</td>\n",
       "      <td>skin_rash</td>\n",
       "      <td>nodal_skin_eruptions</td>\n",
       "    </tr>\n",
       "    <tr>\n",
       "      <th>1</th>\n",
       "      <td>skin_rash</td>\n",
       "      <td>nodal_skin_eruptions</td>\n",
       "      <td>dischromic _patches</td>\n",
       "    </tr>\n",
       "    <tr>\n",
       "      <th>2</th>\n",
       "      <td>itching</td>\n",
       "      <td>nodal_skin_eruptions</td>\n",
       "      <td>dischromic _patches</td>\n",
       "    </tr>\n",
       "    <tr>\n",
       "      <th>3</th>\n",
       "      <td>itching</td>\n",
       "      <td>skin_rash</td>\n",
       "      <td>dischromic _patches</td>\n",
       "    </tr>\n",
       "    <tr>\n",
       "      <th>4</th>\n",
       "      <td>itching</td>\n",
       "      <td>skin_rash</td>\n",
       "      <td>nodal_skin_eruptions</td>\n",
       "    </tr>\n",
       "  </tbody>\n",
       "</table>\n",
       "</div>"
      ],
      "text/plain": [
       "   Symptom_1             Symptom_2             Symptom_3\n",
       "0    itching             skin_rash  nodal_skin_eruptions\n",
       "1  skin_rash  nodal_skin_eruptions   dischromic _patches\n",
       "2    itching  nodal_skin_eruptions   dischromic _patches\n",
       "3    itching             skin_rash   dischromic _patches\n",
       "4    itching             skin_rash  nodal_skin_eruptions"
      ]
     },
     "execution_count": 14,
     "metadata": {},
     "output_type": "execute_result"
    }
   ],
   "source": [
    "x = combined[['Symptom_1','Symptom_2','Symptom_3']]\n",
    "x.head()"
   ]
  },
  {
   "cell_type": "code",
   "execution_count": 15,
   "id": "9f873625",
   "metadata": {},
   "outputs": [],
   "source": [
    "from sklearn.preprocessing import LabelEncoder"
   ]
  },
  {
   "cell_type": "code",
   "execution_count": 16,
   "id": "87ac77f2",
   "metadata": {},
   "outputs": [],
   "source": [
    "le = LabelEncoder()"
   ]
  },
  {
   "cell_type": "code",
   "execution_count": 17,
   "id": "ab98ef04",
   "metadata": {},
   "outputs": [
    {
     "name": "stderr",
     "output_type": "stream",
     "text": [
      "D:\\anaconda\\lib\\site-packages\\pandas\\core\\frame.py:3191: SettingWithCopyWarning: \n",
      "A value is trying to be set on a copy of a slice from a DataFrame.\n",
      "Try using .loc[row_indexer,col_indexer] = value instead\n",
      "\n",
      "See the caveats in the documentation: https://pandas.pydata.org/pandas-docs/stable/user_guide/indexing.html#returning-a-view-versus-a-copy\n",
      "  self[k1] = value[k2]\n"
     ]
    }
   ],
   "source": [
    "cols=[]\n",
    "for i in x.columns:\n",
    "    if x[i].dtypes==object:\n",
    "        cols.append(i)\n",
    "x[cols] = x[cols].apply(LabelEncoder().fit_transform)"
   ]
  },
  {
   "cell_type": "code",
   "execution_count": 18,
   "id": "15c2d36f",
   "metadata": {},
   "outputs": [
    {
     "data": {
      "text/plain": [
       "array(['Fungal infection', 'Allergy', 'GERD', 'Chronic cholestasis',\n",
       "       'Drug Reaction', 'Peptic ulcer diseae', 'AIDS', 'Gastroenteritis',\n",
       "       'Bronchial Asthma', 'Migraine', 'Cervical spondylosis',\n",
       "       'Paralysis (brain hemorrhage)', 'Jaundice', 'Malaria',\n",
       "       'Chicken pox', 'Dengue', 'Typhoid', 'hepatitis A', 'Hepatitis B',\n",
       "       'Hepatitis C', 'Hepatitis D', 'Hepatitis E', 'Alcoholic hepatitis',\n",
       "       'Tuberculosis', 'Common Cold', 'Pneumonia', 'Heart attack',\n",
       "       'Varicose veins', 'Hypothyroidism', 'Hyperthyroidism',\n",
       "       'Hypoglycemia', 'Osteoarthristis', 'Arthritis',\n",
       "       '(vertigo) Paroymsal  Positional Vertigo', 'Acne',\n",
       "       'Urinary tract infection', 'Psoriasis', 'Impetigo'], dtype=object)"
      ]
     },
     "execution_count": 18,
     "metadata": {},
     "output_type": "execute_result"
    }
   ],
   "source": [
    "y = combined['Disease']\n",
    "y.unique()"
   ]
  },
  {
   "cell_type": "code",
   "execution_count": 19,
   "id": "bf91fd93",
   "metadata": {},
   "outputs": [
    {
     "name": "stdout",
     "output_type": "stream",
     "text": [
      "(3648, 3) (912, 3) (3648,) (912,)\n"
     ]
    }
   ],
   "source": [
    "X_train,X_test,y_train,y_test = train_test_split(x,y,test_size=0.2,random_state=999)\n",
    "print(X_train.shape, X_test.shape, y_train.shape, y_test.shape)"
   ]
  },
  {
   "cell_type": "markdown",
   "id": "ff7b32d9",
   "metadata": {},
   "source": [
    "# Using RandomForestClassifier"
   ]
  },
  {
   "cell_type": "code",
   "execution_count": 20,
   "id": "f1d6e617",
   "metadata": {},
   "outputs": [],
   "source": [
    "model=RandomForestClassifier()"
   ]
  },
  {
   "cell_type": "code",
   "execution_count": 21,
   "id": "e99994fe",
   "metadata": {},
   "outputs": [],
   "source": [
    "#you can narrow down the values as you keep training\n",
    "n_estimators = [int(x) for x in np.linspace(start = 200, stop = 2000, num = 10)]\n",
    "max_features = ['auto', 'sqrt']\n",
    "max_depth = [int(x) for x in np.linspace(10, 110, num = 11)]\n",
    "max_depth.append(None)\n",
    "min_samples_split = [2, 5, 10]\n",
    "min_samples_leaf = [1, 2, 4]\n",
    "bootstrap = [True, False]\n",
    "\n",
    "random_grid = {'n_estimators': n_estimators,\n",
    "               'max_features': max_features,\n",
    "               'max_depth': max_depth,\n",
    "               'min_samples_split': min_samples_split,\n",
    "               'min_samples_leaf': min_samples_leaf,\n",
    "               'bootstrap': bootstrap}"
   ]
  },
  {
   "cell_type": "code",
   "execution_count": 22,
   "id": "8e76ac90",
   "metadata": {},
   "outputs": [],
   "source": [
    "rf_random = RandomizedSearchCV(estimator = model, param_distributions = random_grid, n_iter = 10, cv = 3, verbose=2, random_state=42)"
   ]
  },
  {
   "cell_type": "code",
   "execution_count": 23,
   "id": "3db5bc93",
   "metadata": {},
   "outputs": [
    {
     "name": "stdout",
     "output_type": "stream",
     "text": [
      "Fitting 3 folds for each of 10 candidates, totalling 30 fits\n",
      "[CV] END bootstrap=True, max_depth=50, max_features=sqrt, min_samples_leaf=2, min_samples_split=10, n_estimators=200; total time=   0.9s\n",
      "[CV] END bootstrap=True, max_depth=50, max_features=sqrt, min_samples_leaf=2, min_samples_split=10, n_estimators=200; total time=   0.9s\n",
      "[CV] END bootstrap=True, max_depth=50, max_features=sqrt, min_samples_leaf=2, min_samples_split=10, n_estimators=200; total time=   0.9s\n",
      "[CV] END bootstrap=False, max_depth=90, max_features=sqrt, min_samples_leaf=4, min_samples_split=10, n_estimators=600; total time=   2.2s\n",
      "[CV] END bootstrap=False, max_depth=90, max_features=sqrt, min_samples_leaf=4, min_samples_split=10, n_estimators=600; total time=   2.3s\n",
      "[CV] END bootstrap=False, max_depth=90, max_features=sqrt, min_samples_leaf=4, min_samples_split=10, n_estimators=600; total time=   2.3s\n",
      "[CV] END bootstrap=False, max_depth=60, max_features=auto, min_samples_leaf=2, min_samples_split=2, n_estimators=600; total time=   2.4s\n",
      "[CV] END bootstrap=False, max_depth=60, max_features=auto, min_samples_leaf=2, min_samples_split=2, n_estimators=600; total time=   2.4s\n",
      "[CV] END bootstrap=False, max_depth=60, max_features=auto, min_samples_leaf=2, min_samples_split=2, n_estimators=600; total time=   2.5s\n",
      "[CV] END bootstrap=True, max_depth=30, max_features=sqrt, min_samples_leaf=1, min_samples_split=5, n_estimators=1400; total time=   6.2s\n",
      "[CV] END bootstrap=True, max_depth=30, max_features=sqrt, min_samples_leaf=1, min_samples_split=5, n_estimators=1400; total time=   6.2s\n",
      "[CV] END bootstrap=True, max_depth=30, max_features=sqrt, min_samples_leaf=1, min_samples_split=5, n_estimators=1400; total time=   6.2s\n",
      "[CV] END bootstrap=False, max_depth=80, max_features=auto, min_samples_leaf=1, min_samples_split=10, n_estimators=1000; total time=   3.9s\n",
      "[CV] END bootstrap=False, max_depth=80, max_features=auto, min_samples_leaf=1, min_samples_split=10, n_estimators=1000; total time=   4.2s\n",
      "[CV] END bootstrap=False, max_depth=80, max_features=auto, min_samples_leaf=1, min_samples_split=10, n_estimators=1000; total time=   4.3s\n",
      "[CV] END bootstrap=False, max_depth=60, max_features=sqrt, min_samples_leaf=1, min_samples_split=10, n_estimators=400; total time=   1.7s\n",
      "[CV] END bootstrap=False, max_depth=60, max_features=sqrt, min_samples_leaf=1, min_samples_split=10, n_estimators=400; total time=   1.6s\n",
      "[CV] END bootstrap=False, max_depth=60, max_features=sqrt, min_samples_leaf=1, min_samples_split=10, n_estimators=400; total time=   1.5s\n",
      "[CV] END bootstrap=False, max_depth=50, max_features=auto, min_samples_leaf=2, min_samples_split=2, n_estimators=2000; total time=   8.2s\n",
      "[CV] END bootstrap=False, max_depth=50, max_features=auto, min_samples_leaf=2, min_samples_split=2, n_estimators=2000; total time=  11.2s\n",
      "[CV] END bootstrap=False, max_depth=50, max_features=auto, min_samples_leaf=2, min_samples_split=2, n_estimators=2000; total time=   8.8s\n",
      "[CV] END bootstrap=True, max_depth=10, max_features=sqrt, min_samples_leaf=2, min_samples_split=5, n_estimators=200; total time=   1.0s\n",
      "[CV] END bootstrap=True, max_depth=10, max_features=sqrt, min_samples_leaf=2, min_samples_split=5, n_estimators=200; total time=   1.1s\n",
      "[CV] END bootstrap=True, max_depth=10, max_features=sqrt, min_samples_leaf=2, min_samples_split=5, n_estimators=200; total time=   1.0s\n",
      "[CV] END bootstrap=True, max_depth=100, max_features=auto, min_samples_leaf=4, min_samples_split=2, n_estimators=1200; total time=   6.1s\n",
      "[CV] END bootstrap=True, max_depth=100, max_features=auto, min_samples_leaf=4, min_samples_split=2, n_estimators=1200; total time=   5.8s\n",
      "[CV] END bootstrap=True, max_depth=100, max_features=auto, min_samples_leaf=4, min_samples_split=2, n_estimators=1200; total time=   5.5s\n",
      "[CV] END bootstrap=True, max_depth=50, max_features=auto, min_samples_leaf=2, min_samples_split=5, n_estimators=2000; total time=   9.4s\n",
      "[CV] END bootstrap=True, max_depth=50, max_features=auto, min_samples_leaf=2, min_samples_split=5, n_estimators=2000; total time=   9.4s\n",
      "[CV] END bootstrap=True, max_depth=50, max_features=auto, min_samples_leaf=2, min_samples_split=5, n_estimators=2000; total time=   9.3s\n"
     ]
    },
    {
     "data": {
      "text/plain": [
       "RandomizedSearchCV(cv=3, estimator=RandomForestClassifier(),\n",
       "                   param_distributions={'bootstrap': [True, False],\n",
       "                                        'max_depth': [10, 20, 30, 40, 50, 60,\n",
       "                                                      70, 80, 90, 100, 110,\n",
       "                                                      None],\n",
       "                                        'max_features': ['auto', 'sqrt'],\n",
       "                                        'min_samples_leaf': [1, 2, 4],\n",
       "                                        'min_samples_split': [2, 5, 10],\n",
       "                                        'n_estimators': [200, 400, 600, 800,\n",
       "                                                         1000, 1200, 1400, 1600,\n",
       "                                                         1800, 2000]},\n",
       "                   random_state=42, verbose=2)"
      ]
     },
     "execution_count": 23,
     "metadata": {},
     "output_type": "execute_result"
    }
   ],
   "source": [
    "rf_random.fit(X_train,y_train)"
   ]
  },
  {
   "cell_type": "code",
   "execution_count": 24,
   "id": "7b35a8e0",
   "metadata": {},
   "outputs": [
    {
     "data": {
      "text/plain": [
       "{'n_estimators': 1400,\n",
       " 'min_samples_split': 5,\n",
       " 'min_samples_leaf': 1,\n",
       " 'max_features': 'sqrt',\n",
       " 'max_depth': 30,\n",
       " 'bootstrap': True}"
      ]
     },
     "execution_count": 24,
     "metadata": {},
     "output_type": "execute_result"
    }
   ],
   "source": [
    "rf_random.best_params_\n"
   ]
  },
  {
   "cell_type": "code",
   "execution_count": 25,
   "id": "1685acd8",
   "metadata": {},
   "outputs": [],
   "source": [
    "#using my best parameters\n",
    "model1 = RandomForestClassifier(bootstrap=True,\n",
    " max_depth=30,\n",
    " max_features= 'sqrt',\n",
    " min_samples_leaf= 1,\n",
    " min_samples_split= 5,\n",
    " n_estimators= 1400)"
   ]
  },
  {
   "cell_type": "code",
   "execution_count": 26,
   "id": "aef4d59e",
   "metadata": {},
   "outputs": [
    {
     "data": {
      "text/plain": [
       "RandomForestClassifier(max_depth=30, max_features='sqrt', min_samples_split=5,\n",
       "                       n_estimators=1400)"
      ]
     },
     "execution_count": 26,
     "metadata": {},
     "output_type": "execute_result"
    }
   ],
   "source": [
    "model1.fit(X_train,y_train)"
   ]
  },
  {
   "cell_type": "code",
   "execution_count": null,
   "id": "e92d91e4",
   "metadata": {},
   "outputs": [],
   "source": []
  },
  {
   "cell_type": "code",
   "execution_count": 27,
   "id": "5a2f1daf",
   "metadata": {},
   "outputs": [],
   "source": [
    "from sklearn import metrics\n",
    "def predict(ml_model):\n",
    "    model=ml_model.fit(X_train,y_train)\n",
    "    print('Training score : {}'.format(model.score(X_train,y_train)))\n",
    "    y_pred=model.predict(X_test)\n",
    "    accuracy_score(y_test,y_pred)\n",
    "    print(' Accuracy score : {}'.format(accuracy_score(y_test,y_pred)))\n",
    "\n"
   ]
  },
  {
   "cell_type": "code",
   "execution_count": 28,
   "id": "40e948b0",
   "metadata": {},
   "outputs": [
    {
     "name": "stdout",
     "output_type": "stream",
     "text": [
      "Training score : 0.9514802631578947\n",
      " Accuracy score : 0.930921052631579\n"
     ]
    }
   ],
   "source": [
    "predict(RandomForestClassifier(bootstrap=True,\n",
    " max_depth=30,\n",
    " max_features= 'sqrt',\n",
    " min_samples_leaf= 1,\n",
    " min_samples_split= 5,\n",
    " n_estimators= 1400))"
   ]
  },
  {
   "cell_type": "markdown",
   "id": "74357b48",
   "metadata": {},
   "source": [
    "# Using DECISION TREE with mutual_info_classif"
   ]
  },
  {
   "cell_type": "code",
   "execution_count": 29,
   "id": "b38dd783",
   "metadata": {},
   "outputs": [
    {
     "data": {
      "text/html": [
       "<div>\n",
       "<style scoped>\n",
       "    .dataframe tbody tr th:only-of-type {\n",
       "        vertical-align: middle;\n",
       "    }\n",
       "\n",
       "    .dataframe tbody tr th {\n",
       "        vertical-align: top;\n",
       "    }\n",
       "\n",
       "    .dataframe thead th {\n",
       "        text-align: right;\n",
       "    }\n",
       "</style>\n",
       "<table border=\"1\" class=\"dataframe\">\n",
       "  <thead>\n",
       "    <tr style=\"text-align: right;\">\n",
       "      <th></th>\n",
       "      <th>0</th>\n",
       "    </tr>\n",
       "  </thead>\n",
       "  <tbody>\n",
       "    <tr>\n",
       "      <th>Symptom_1</th>\n",
       "      <td>2.260078</td>\n",
       "    </tr>\n",
       "    <tr>\n",
       "      <th>Symptom_2</th>\n",
       "      <td>2.768154</td>\n",
       "    </tr>\n",
       "    <tr>\n",
       "      <th>Symptom_3</th>\n",
       "      <td>3.022026</td>\n",
       "    </tr>\n",
       "  </tbody>\n",
       "</table>\n",
       "</div>"
      ],
      "text/plain": [
       "                  0\n",
       "Symptom_1  2.260078\n",
       "Symptom_2  2.768154\n",
       "Symptom_3  3.022026"
      ]
     },
     "execution_count": 29,
     "metadata": {},
     "output_type": "execute_result"
    }
   ],
   "source": [
    "imp=pd.DataFrame(mutual_info_classif(x,y),index=x.columns)\n",
    "imp"
   ]
  },
  {
   "cell_type": "code",
   "execution_count": 30,
   "id": "3f02c631",
   "metadata": {},
   "outputs": [
    {
     "data": {
      "text/html": [
       "<div>\n",
       "<style scoped>\n",
       "    .dataframe tbody tr th:only-of-type {\n",
       "        vertical-align: middle;\n",
       "    }\n",
       "\n",
       "    .dataframe tbody tr th {\n",
       "        vertical-align: top;\n",
       "    }\n",
       "\n",
       "    .dataframe thead th {\n",
       "        text-align: right;\n",
       "    }\n",
       "</style>\n",
       "<table border=\"1\" class=\"dataframe\">\n",
       "  <thead>\n",
       "    <tr style=\"text-align: right;\">\n",
       "      <th></th>\n",
       "      <th>importance</th>\n",
       "    </tr>\n",
       "  </thead>\n",
       "  <tbody>\n",
       "    <tr>\n",
       "      <th>Symptom_3</th>\n",
       "      <td>3.022026</td>\n",
       "    </tr>\n",
       "    <tr>\n",
       "      <th>Symptom_2</th>\n",
       "      <td>2.768154</td>\n",
       "    </tr>\n",
       "    <tr>\n",
       "      <th>Symptom_1</th>\n",
       "      <td>2.260078</td>\n",
       "    </tr>\n",
       "  </tbody>\n",
       "</table>\n",
       "</div>"
      ],
      "text/plain": [
       "           importance\n",
       "Symptom_3    3.022026\n",
       "Symptom_2    2.768154\n",
       "Symptom_1    2.260078"
      ]
     },
     "execution_count": 30,
     "metadata": {},
     "output_type": "execute_result"
    }
   ],
   "source": [
    "imp.columns=['importance']\n",
    "imp.sort_values(by='importance',ascending=False)"
   ]
  },
  {
   "cell_type": "code",
   "execution_count": 31,
   "id": "d962a937",
   "metadata": {},
   "outputs": [],
   "source": [
    "X_train,X_test,y_train,y_test=train_test_split(x,y,test_size=0.2)"
   ]
  },
  {
   "cell_type": "code",
   "execution_count": 32,
   "id": "2afac712",
   "metadata": {},
   "outputs": [
    {
     "data": {
      "text/plain": [
       "DecisionTreeClassifier()"
      ]
     },
     "execution_count": 32,
     "metadata": {},
     "output_type": "execute_result"
    }
   ],
   "source": [
    "from sklearn.tree import DecisionTreeClassifier \n",
    "\n",
    "model = DecisionTreeClassifier()\n",
    "model.fit(X_train , y_train)"
   ]
  },
  {
   "cell_type": "code",
   "execution_count": 33,
   "id": "37f4d587",
   "metadata": {},
   "outputs": [
    {
     "name": "stdout",
     "output_type": "stream",
     "text": [
      "Testing Accuracy :  0.944078947368421\n"
     ]
    }
   ],
   "source": [
    "print(\"Testing Accuracy : \" , model.score(X_test , y_test))\n"
   ]
  },
  {
   "cell_type": "markdown",
   "id": "ac9b5ba5",
   "metadata": {},
   "source": [
    "# Using XGBoost\n"
   ]
  },
  {
   "cell_type": "code",
   "execution_count": 34,
   "id": "cf05a652",
   "metadata": {},
   "outputs": [
    {
     "name": "stdout",
     "output_type": "stream",
     "text": [
      "[15:31:31] WARNING: C:/Users/Administrator/workspace/xgboost-win64_release_1.4.0/src/learner.cc:1095: Starting in XGBoost 1.3.0, the default evaluation metric used with the objective 'multi:softprob' was changed from 'merror' to 'mlogloss'. Explicitly set eval_metric if you'd like to restore the old behavior.\n"
     ]
    },
    {
     "name": "stderr",
     "output_type": "stream",
     "text": [
      "D:\\anaconda\\lib\\site-packages\\xgboost\\sklearn.py:1146: UserWarning: The use of label encoder in XGBClassifier is deprecated and will be removed in a future release. To remove this warning, do the following: 1) Pass option use_label_encoder=False when constructing XGBClassifier object; and 2) Encode your labels (y) as integers starting with 0, i.e. 0, 1, 2, ..., [num_class - 1].\n",
      "  warnings.warn(label_encoder_deprecation_msg, UserWarning)\n"
     ]
    }
   ],
   "source": [
    "clf=XGBClassifier()\n",
    "clf.fit(X_train,y_train)\n",
    "y_predict=clf.predict(X_test)"
   ]
  },
  {
   "cell_type": "code",
   "execution_count": 35,
   "id": "419e0a88",
   "metadata": {},
   "outputs": [
    {
     "name": "stdout",
     "output_type": "stream",
     "text": [
      "[[28  0  0 ...  0  0  0]\n",
      " [ 0 24  0 ...  0  0  0]\n",
      " [ 0  0 24 ...  0  0  0]\n",
      " ...\n",
      " [ 0  0  0 ... 19  0  0]\n",
      " [ 0  0  0 ...  0 24  0]\n",
      " [ 0  0  0 ...  0  0 18]]\n"
     ]
    },
    {
     "data": {
      "text/plain": [
       "<AxesSubplot:>"
      ]
     },
     "execution_count": 35,
     "metadata": {},
     "output_type": "execute_result"
    },
    {
     "data": {
      "image/png": "[encoded data removed]",
      "text/plain": [
       "<Figure size 432x288 with 2 Axes>"
      ]
     },
     "metadata": {
      "needs_background": "light"
     },
     "output_type": "display_data"
    }
   ],
   "source": [
    "#Confusion metrics\n",
    "cm=confusion_matrix(y_test,y_predict)\n",
    "print(cm)\n",
    "sns.heatmap(cm, annot=True)"
   ]
  },
  {
   "cell_type": "code",
   "execution_count": 36,
   "id": "29238896",
   "metadata": {},
   "outputs": [
    {
     "name": "stdout",
     "output_type": "stream",
     "text": [
      "0.944078947368421\n",
      "                                         precision    recall  f1-score   support\n",
      "\n",
      "(vertigo) Paroymsal  Positional Vertigo       1.00      1.00      1.00        28\n",
      "                                   AIDS       1.00      1.00      1.00        24\n",
      "                                   Acne       1.00      1.00      1.00        24\n",
      "                    Alcoholic hepatitis       1.00      1.00      1.00        21\n",
      "                                Allergy       1.00      1.00      1.00        26\n",
      "                              Arthritis       1.00      1.00      1.00        22\n",
      "                       Bronchial Asthma       0.96      1.00      0.98        27\n",
      "                   Cervical spondylosis       1.00      1.00      1.00        27\n",
      "                            Chicken pox       1.00      0.92      0.96        24\n",
      "                    Chronic cholestasis       1.00      1.00      1.00        20\n",
      "                            Common Cold       1.00      0.95      0.98        21\n",
      "                                 Dengue       1.00      1.00      1.00        28\n",
      "                          Drug Reaction       1.00      1.00      1.00        23\n",
      "                       Fungal infection       1.00      1.00      1.00        18\n",
      "                                   GERD       1.00      1.00      1.00        32\n",
      "                        Gastroenteritis       1.00      1.00      1.00        22\n",
      "                           Heart attack       1.00      1.00      1.00        17\n",
      "                            Hepatitis B       0.94      1.00      0.97        29\n",
      "                            Hepatitis C       1.00      1.00      1.00        18\n",
      "                            Hepatitis D       1.00      0.07      0.13        29\n",
      "                            Hepatitis E       0.49      1.00      0.66        21\n",
      "                        Hyperthyroidism       1.00      1.00      1.00        25\n",
      "                           Hypoglycemia       1.00      1.00      1.00        21\n",
      "                         Hypothyroidism       1.00      1.00      1.00        29\n",
      "                               Impetigo       1.00      1.00      1.00        28\n",
      "                               Jaundice       0.96      1.00      0.98        27\n",
      "                                Malaria       1.00      1.00      1.00        26\n",
      "                               Migraine       1.00      1.00      1.00        25\n",
      "                        Osteoarthristis       1.00      1.00      1.00        29\n",
      "           Paralysis (brain hemorrhage)       1.00      1.00      1.00        24\n",
      "                    Peptic ulcer diseae       1.00      1.00      1.00        25\n",
      "                              Pneumonia       0.92      0.96      0.94        23\n",
      "                              Psoriasis       1.00      1.00      1.00        24\n",
      "                           Tuberculosis       1.00      0.10      0.17        21\n",
      "                                Typhoid       0.55      0.96      0.70        23\n",
      "                Urinary tract infection       1.00      1.00      1.00        19\n",
      "                         Varicose veins       1.00      1.00      1.00        24\n",
      "                            hepatitis A       0.78      1.00      0.88        18\n",
      "\n",
      "                               accuracy                           0.94       912\n",
      "                              macro avg       0.96      0.95      0.93       912\n",
      "                           weighted avg       0.97      0.94      0.93       912\n",
      "\n"
     ]
    }
   ],
   "source": [
    "#Accuracy and classification report\n",
    "print(accuracy_score(y_test,y_predict))\n",
    "print(classification_report(y_test,y_predict))"
   ]
  },
  {
   "cell_type": "code",
   "execution_count": null,
   "id": "e34e248a",
   "metadata": {},
   "outputs": [],
   "source": []
  },
  {
   "cell_type": "code",
   "execution_count": null,
   "id": "97e95481",
   "metadata": {},
   "outputs": [],
   "source": []
  },
  {
   "cell_type": "code",
   "execution_count": 37,
   "id": "d9109156",
   "metadata": {},
   "outputs": [],
   "source": [
    "trainX, testX, trainY, testY = train_test_split(x, y, test_size = 0.2, random_state = 42)"
   ]
  },
  {
   "cell_type": "code",
   "execution_count": 38,
   "id": "da77a988",
   "metadata": {},
   "outputs": [
    {
     "data": {
      "text/plain": [
       "Text(0, 0.5, 'Mean Error')"
      ]
     },
     "execution_count": 38,
     "metadata": {},
     "output_type": "execute_result"
    },
    {
     "data": {
      "image/png": "[encoded data removed]",
      "text/plain": [
       "<Figure size 864x432 with 1 Axes>"
      ]
     },
     "metadata": {
      "needs_background": "light"
     },
     "output_type": "display_data"
    }
   ],
   "source": [
    "error = []\n",
    "\n",
    "\n",
    "for i in range(1, 50):\n",
    "    knn = KNeighborsClassifier(n_neighbors=i)\n",
    "    knn.fit(trainX, trainY)\n",
    "    pred_i = knn.predict(testX)\n",
    "    error.append(np.mean(pred_i != testY))\n",
    "plt.figure(figsize=(12, 6))\n",
    "plt.plot(range(1, 50), error, color='red', linestyle='dashed', marker='o',\n",
    "         markerfacecolor='blue', markersize=10)\n",
    "plt.title('Error Rate K Value')\n",
    "plt.xlabel('K Value')\n",
    "plt.ylabel('Mean Error')"
   ]
  },
  {
   "cell_type": "code",
   "execution_count": 39,
   "id": "915cb1f7",
   "metadata": {},
   "outputs": [
    {
     "data": {
      "text/plain": [
       "KNeighborsClassifier(n_neighbors=1)"
      ]
     },
     "execution_count": 39,
     "metadata": {},
     "output_type": "execute_result"
    }
   ],
   "source": [
    "classifier = KNeighborsClassifier(n_neighbors=1)\n",
    "classifier.fit(trainX, trainY)"
   ]
  },
  {
   "cell_type": "code",
   "execution_count": 40,
   "id": "40ca39a6",
   "metadata": {},
   "outputs": [],
   "source": [
    "y_pred = classifier.predict(testX)"
   ]
  },
  {
   "cell_type": "code",
   "execution_count": 41,
   "id": "d1a88830",
   "metadata": {},
   "outputs": [
    {
     "name": "stdout",
     "output_type": "stream",
     "text": [
      "                                         precision    recall  f1-score   support\n",
      "\n",
      "(vertigo) Paroymsal  Positional Vertigo       1.00      1.00      1.00        22\n",
      "                                   AIDS       1.00      1.00      1.00        29\n",
      "                                   Acne       1.00      1.00      1.00        24\n",
      "                    Alcoholic hepatitis       1.00      1.00      1.00        23\n",
      "                                Allergy       1.00      1.00      1.00        35\n",
      "                              Arthritis       1.00      1.00      1.00        18\n",
      "                       Bronchial Asthma       0.96      1.00      0.98        27\n",
      "                   Cervical spondylosis       1.00      1.00      1.00        27\n",
      "                            Chicken pox       1.00      0.96      0.98        25\n",
      "                    Chronic cholestasis       1.00      1.00      1.00        29\n",
      "                            Common Cold       1.00      1.00      1.00        25\n",
      "                                 Dengue       1.00      1.00      1.00        20\n",
      "                          Drug Reaction       1.00      1.00      1.00        25\n",
      "                       Fungal infection       1.00      1.00      1.00        22\n",
      "                                   GERD       1.00      1.00      1.00        25\n",
      "                        Gastroenteritis       1.00      1.00      1.00        21\n",
      "                           Heart attack       1.00      1.00      1.00        25\n",
      "                            Hepatitis B       0.96      1.00      0.98        22\n",
      "                            Hepatitis C       1.00      1.00      1.00        23\n",
      "                            Hepatitis D       1.00      0.11      0.19        28\n",
      "                            Hepatitis E       0.52      1.00      0.68        26\n",
      "                        Hyperthyroidism       1.00      1.00      1.00        20\n",
      "                           Hypoglycemia       1.00      1.00      1.00        26\n",
      "                         Hypothyroidism       1.00      1.00      1.00        20\n",
      "                               Impetigo       1.00      1.00      1.00        22\n",
      "                               Jaundice       0.96      1.00      0.98        24\n",
      "                                Malaria       1.00      1.00      1.00        22\n",
      "                               Migraine       1.00      1.00      1.00        32\n",
      "                        Osteoarthristis       1.00      1.00      1.00        24\n",
      "           Paralysis (brain hemorrhage)       1.00      1.00      1.00        26\n",
      "                    Peptic ulcer diseae       1.00      1.00      1.00        19\n",
      "                              Pneumonia       1.00      0.95      0.98        22\n",
      "                              Psoriasis       1.00      1.00      1.00        21\n",
      "                           Tuberculosis       0.57      0.96      0.72        24\n",
      "                                Typhoid       0.00      0.00      0.00        17\n",
      "                Urinary tract infection       1.00      1.00      1.00        33\n",
      "                         Varicose veins       1.00      1.00      1.00        21\n",
      "                            hepatitis A       0.95      1.00      0.97        18\n",
      "\n",
      "                               accuracy                           0.95       912\n",
      "                              macro avg       0.95      0.95      0.93       912\n",
      "                           weighted avg       0.95      0.95      0.94       912\n",
      "\n"
     ]
    },
    {
     "name": "stderr",
     "output_type": "stream",
     "text": [
      "D:\\anaconda\\lib\\site-packages\\sklearn\\metrics\\_classification.py:1245: UndefinedMetricWarning: Precision and F-score are ill-defined and being set to 0.0 in labels with no predicted samples. Use `zero_division` parameter to control this behavior.\n",
      "  _warn_prf(average, modifier, msg_start, len(result))\n",
      "D:\\anaconda\\lib\\site-packages\\sklearn\\metrics\\_classification.py:1245: UndefinedMetricWarning: Precision and F-score are ill-defined and being set to 0.0 in labels with no predicted samples. Use `zero_division` parameter to control this behavior.\n",
      "  _warn_prf(average, modifier, msg_start, len(result))\n",
      "D:\\anaconda\\lib\\site-packages\\sklearn\\metrics\\_classification.py:1245: UndefinedMetricWarning: Precision and F-score are ill-defined and being set to 0.0 in labels with no predicted samples. Use `zero_division` parameter to control this behavior.\n",
      "  _warn_prf(average, modifier, msg_start, len(result))\n"
     ]
    }
   ],
   "source": [
    "print(classification_report(testY, y_pred))"
   ]
  },
  {
   "cell_type": "code",
   "execution_count": null,
   "id": "9bd3d813",
   "metadata": {},
   "outputs": [],
   "source": []
  },
  {
   "cell_type": "code",
   "execution_count": null,
   "id": "52d7339d",
   "metadata": {},
   "outputs": [],
   "source": []
  },
  {
   "cell_type": "code",
   "execution_count": null,
   "id": "481c634e",
   "metadata": {},
   "outputs": [],
   "source": []
  },
  {
   "cell_type": "code",
   "execution_count": null,
   "id": "4ffe4989",
   "metadata": {},
   "outputs": [],
   "source": []
  },
  {
   "cell_type": "code",
   "execution_count": null,
   "id": "9f8f542c",
   "metadata": {},
   "outputs": [],
   "source": []
  },
  {
   "cell_type": "code",
   "execution_count": null,
   "id": "96ff78a9",
   "metadata": {},
   "outputs": [],
   "source": []
  },
  {
   "cell_type": "code",
   "execution_count": null,
   "id": "287e76b1",
   "metadata": {},
   "outputs": [],
   "source": []
  },
  {
   "cell_type": "code",
   "execution_count": null,
   "id": "9119b043",
   "metadata": {},
   "outputs": [],
   "source": []
  },
  {
   "cell_type": "markdown",
   "id": "dac4f796",
   "metadata": {},
   "source": [
    "# Using SVC We need to convert everything into int form"
   ]
  },
  {
   "cell_type": "code",
   "execution_count": 47,
   "id": "7e5ff7bd",
   "metadata": {},
   "outputs": [],
   "source": [
    "\n"
   ]
  },
  {
   "cell_type": "code",
   "execution_count": 48,
   "id": "5df1afb5",
   "metadata": {},
   "outputs": [
    {
     "name": "stdout",
     "output_type": "stream",
     "text": [
      "<class 'pandas.core.frame.DataFrame'>\n",
      "RangeIndex: 4560 entries, 0 to 4559\n",
      "Data columns (total 9 columns):\n",
      " #   Column        Non-Null Count  Dtype\n",
      "---  ------        --------------  -----\n",
      " 0   Disease       4560 non-null   int32\n",
      " 1   Symptom_1     4560 non-null   int32\n",
      " 2   Symptom_2     4560 non-null   int32\n",
      " 3   Symptom_3     4560 non-null   int32\n",
      " 4   Description   4560 non-null   int32\n",
      " 5   Precaution_1  4560 non-null   int32\n",
      " 6   Precaution_2  4560 non-null   int32\n",
      " 7   Precaution_3  4560 non-null   int32\n",
      " 8   Precaution_4  4560 non-null   int32\n",
      "dtypes: int32(9)\n",
      "memory usage: 160.4 KB\n"
     ]
    }
   ],
   "source": [
    "co=[]\n",
    "for i in combined.columns:\n",
    "    if combined[i].dtypes==object:\n",
    "        co.append(i)\n",
    "combined[co] = combined[co].apply(LabelEncoder().fit_transform)\n",
    "combined.info()"
   ]
  },
  {
   "cell_type": "code",
   "execution_count": 79,
   "id": "67ec1782",
   "metadata": {},
   "outputs": [],
   "source": [
    "data= combined.iloc[:,1:].values\n",
    "labels = combined['Disease'].values"
   ]
  },
  {
   "cell_type": "code",
   "execution_count": 80,
   "id": "3f47a72c",
   "metadata": {},
   "outputs": [],
   "source": [
    "ros = RandomOverSampler(random_state=0)\n",
    "ros.fit(data, labels)\n",
    "X_resampled, y_resampled = ros.fit_resample(data, labels)"
   ]
  },
  {
   "cell_type": "code",
   "execution_count": 81,
   "id": "8d354696",
   "metadata": {},
   "outputs": [
    {
     "name": "stdout",
     "output_type": "stream",
     "text": [
      "(3876, 8) (684, 8) (3876,) (684,)\n"
     ]
    }
   ],
   "source": [
    "x_train, x_test, y_train, y_test = train_test_split(data,labels , shuffle=True, train_size = 0.85)\n",
    "print(x_train.shape, x_test.shape, y_train.shape, y_test.shape)"
   ]
  },
  {
   "cell_type": "code",
   "execution_count": 83,
   "id": "c29e1e24",
   "metadata": {},
   "outputs": [
    {
     "data": {
      "text/plain": [
       "SVC()"
      ]
     },
     "execution_count": 83,
     "metadata": {},
     "output_type": "execute_result"
    }
   ],
   "source": [
    "model2 = SVC()\n",
    "model2.fit(x_train, y_train)\n"
   ]
  },
  {
   "cell_type": "code",
   "execution_count": 84,
   "id": "5c28a4af",
   "metadata": {},
   "outputs": [],
   "source": [
    "preds = model2.predict(x_test)"
   ]
  },
  {
   "cell_type": "code",
   "execution_count": 85,
   "id": "98a21b28",
   "metadata": {},
   "outputs": [
    {
     "name": "stdout",
     "output_type": "stream",
     "text": [
      "F1-score% = 100.0 | Accuracy% = 100.0\n"
     ]
    },
    {
     "data": {
      "text/plain": [
       "<AxesSubplot:>"
      ]
     },
     "execution_count": 85,
     "metadata": {},
     "output_type": "execute_result"
    },
    {
     "data": {
      "image/png": "[encoded data removed]",
      "text/plain": [
       "<Figure size 432x288 with 2 Axes>"
      ]
     },
     "metadata": {
      "needs_background": "light"
     },
     "output_type": "display_data"
    }
   ],
   "source": [
    "conf_mat = confusion_matrix(y_test, preds)\n",
    "df_cm = pd.DataFrame(conf_mat, index=combined[\"Disease\"].unique(), columns=combined['Disease'].unique())\n",
    "print('F1-score% =', f1_score(y_test, preds, average='macro')*100, '|', 'Accuracy% =', accuracy_score(y_test, preds)*100)\n",
    "sns.heatmap(df_cm)"
   ]
  },
  {
   "cell_type": "code",
   "execution_count": 72,
   "id": "a75f4162",
   "metadata": {},
   "outputs": [],
   "source": [
    "def predict(ml_model):\n",
    "    model=ml_model.fit(x_train,y_train)\n",
    "    print('Training score : {}'.format(model.score(x_train,y_train)))\n",
    "    y_prediction=model.predict(x_test)\n",
    "    print(\"Testing Accuracy : \" , model.score(x_test , y_test))\n",
    "    print('\\n')\n",
    "    r2_score=metrics.r2_score(y_test,y_prediction)\n",
    "    print('r2 score: {}'.format(r2_score))\n",
    "    print('MAE:',metrics.mean_absolute_error(y_test,y_prediction))\n",
    "    print('MSE:',metrics.mean_squared_error(y_test,y_prediction))\n",
    "    print('RMSE:',np.sqrt(metrics.mean_squared_error(y_test,y_prediction)))\n",
    "    sns.distplot(y_test-y_prediction)"
   ]
  },
  {
   "cell_type": "code",
   "execution_count": 73,
   "id": "835fa077",
   "metadata": {},
   "outputs": [
    {
     "name": "stdout",
     "output_type": "stream",
     "text": [
      "Training score : 0.9999973383130233\n",
      "Testing Accuracy :  0.9999895383387019\n",
      "\n",
      "\n",
      "r2 score: 0.9999895383387019\n",
      "MAE: 0.0031286549707602294\n",
      "MSE: 0.0012090643274853803\n",
      "RMSE: 0.03477160231403466\n"
     ]
    },
    {
     "name": "stderr",
     "output_type": "stream",
     "text": [
      "D:\\anaconda\\lib\\site-packages\\seaborn\\distributions.py:2557: FutureWarning: `distplot` is a deprecated function and will be removed in a future version. Please adapt your code to use either `displot` (a figure-level function with similar flexibility) or `histplot` (an axes-level function for histograms).\n",
      "  warnings.warn(msg, FutureWarning)\n"
     ]
    },
    {
     "data": {
      "image/png": "[encoded data removed]",
      "text/plain": [
       "<Figure size 432x288 with 1 Axes>"
      ]
     },
     "metadata": {
      "needs_background": "light"
     },
     "output_type": "display_data"
    }
   ],
   "source": [
    "predict(RandomForestRegressor())"
   ]
  },
  {
   "cell_type": "code",
   "execution_count": 74,
   "id": "55aac213",
   "metadata": {},
   "outputs": [
    {
     "name": "stdout",
     "output_type": "stream",
     "text": [
      "Training score : 0.22192695362700876\n",
      "Testing Accuracy :  0.17551910117102776\n",
      "\n",
      "\n",
      "r2 score: 0.17551910117102776\n",
      "MAE: 8.131657261550888\n",
      "MSE: 95.28605591950463\n",
      "RMSE: 9.761457673908371\n"
     ]
    },
    {
     "name": "stderr",
     "output_type": "stream",
     "text": [
      "D:\\anaconda\\lib\\site-packages\\seaborn\\distributions.py:2557: FutureWarning: `distplot` is a deprecated function and will be removed in a future version. Please adapt your code to use either `displot` (a figure-level function with similar flexibility) or `histplot` (an axes-level function for histograms).\n",
      "  warnings.warn(msg, FutureWarning)\n"
     ]
    },
    {
     "data": {
      "image/png": "[encoded data removed]",
      "text/plain": [
       "<Figure size 432x288 with 1 Axes>"
      ]
     },
     "metadata": {
      "needs_background": "light"
     },
     "output_type": "display_data"
    }
   ],
   "source": [
    "predict(LinearRegression())"
   ]
  },
  {
   "cell_type": "code",
   "execution_count": 75,
   "id": "10d48351",
   "metadata": {},
   "outputs": [
    {
     "name": "stdout",
     "output_type": "stream",
     "text": [
      "Training score : 1.0\n",
      "Testing Accuracy :  1.0\n",
      "\n",
      "\n",
      "r2 score: 1.0\n",
      "MAE: 0.0\n",
      "MSE: 0.0\n",
      "RMSE: 0.0\n"
     ]
    },
    {
     "name": "stderr",
     "output_type": "stream",
     "text": [
      "D:\\anaconda\\lib\\site-packages\\seaborn\\distributions.py:2557: FutureWarning: `distplot` is a deprecated function and will be removed in a future version. Please adapt your code to use either `displot` (a figure-level function with similar flexibility) or `histplot` (an axes-level function for histograms).\n",
      "  warnings.warn(msg, FutureWarning)\n",
      "D:\\anaconda\\lib\\site-packages\\seaborn\\distributions.py:306: UserWarning: Dataset has 0 variance; skipping density estimate.\n",
      "  warnings.warn(msg, UserWarning)\n"
     ]
    },
    {
     "data": {
      "image/png": "[encoded data removed]",
      "text/plain": [
       "<Figure size 432x288 with 1 Axes>"
      ]
     },
     "metadata": {
      "needs_background": "light"
     },
     "output_type": "display_data"
    }
   ],
   "source": [
    "predict(DecisionTreeRegressor())"
   ]
  },
  {
   "cell_type": "code",
   "execution_count": 76,
   "id": "e35f6024",
   "metadata": {},
   "outputs": [
    {
     "name": "stdout",
     "output_type": "stream",
     "text": [
      "Training score : 1.0\n",
      "Testing Accuracy :  1.0\n",
      "\n",
      "\n",
      "r2 score: 1.0\n",
      "MAE: 0.0\n",
      "MSE: 0.0\n",
      "RMSE: 0.0\n"
     ]
    },
    {
     "name": "stderr",
     "output_type": "stream",
     "text": [
      "D:\\anaconda\\lib\\site-packages\\seaborn\\distributions.py:2557: FutureWarning: `distplot` is a deprecated function and will be removed in a future version. Please adapt your code to use either `displot` (a figure-level function with similar flexibility) or `histplot` (an axes-level function for histograms).\n",
      "  warnings.warn(msg, FutureWarning)\n",
      "D:\\anaconda\\lib\\site-packages\\seaborn\\distributions.py:306: UserWarning: Dataset has 0 variance; skipping density estimate.\n",
      "  warnings.warn(msg, UserWarning)\n"
     ]
    },
    {
     "data": {
      "image/png": "[encoded data removed]",
      "text/plain": [
       "<Figure size 432x288 with 1 Axes>"
      ]
     },
     "metadata": {
      "needs_background": "light"
     },
     "output_type": "display_data"
    }
   ],
   "source": [
    "predict(SVC())"
   ]
  }
 ],
 "metadata": {
  "kernelspec": {
   "display_name": "Python 3",
   "language": "python",
   "name": "python3"
  },
  "language_info": {
   "codemirror_mode": {
    "name": "ipython",
    "version": 3
   },
   "file_extension": ".py",
   "mimetype": "text/x-python",
   "name": "python",
   "nbconvert_exporter": "python",
   "pygments_lexer": "ipython3",
   "version": "3.8.8"
  }
 },
 "nbformat": 4,
 "nbformat_minor": 5
}
